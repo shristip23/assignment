{
 "cells": [
  {
   "cell_type": "code",
   "execution_count": 3,
   "id": "0a4041f7-27ca-46ff-98fe-77832246e676",
   "metadata": {},
   "outputs": [],
   "source": [
    "#Q1\n",
    "a=[ \"shrisit\"]\n",
    "#ii\n",
    "a=[52,525,85,],\n",
    "#iii\n",
    "a=85.5\n",
    "#iv\n",
    "float =(55,25,44)"
   ]
  },
  {
   "cell_type": "code",
   "execution_count": null,
   "id": "6bf6abcc-cf53-4316-a6f2-8b2c3ffb9b02",
   "metadata": {},
   "outputs": [],
   "source": [
    "#Q2\n",
    "#(i)\tvar1 = ‘ ‘ \n",
    "#ans it is used to assigned space. between the \n",
    "\n",
    "#(ii)\tvar2 = ‘[ DS , ML , Python]’\n",
    "#ans it is a var that assigned the value because the inverted common is not present in betwwen.\n",
    "#(iii)\tvar3 = [ ‘DS’ , ’ML’ , ‘Python’ ]\n",
    "#ans this var has list which is assigned with inverted common and we can change in this list by using index \n",
    "#(iv)\tvar4 = 1\n",
    "#ans this var is assigned a value 1 int "
   ]
  },
  {
   "cell_type": "code",
   "execution_count": 14,
   "id": "5fe8b047-be8f-4c08-b4ad-2d4bc643db36",
   "metadata": {},
   "outputs": [
    {
     "data": {
      "text/plain": [
       "5.0"
      ]
     },
     "execution_count": 14,
     "metadata": {},
     "output_type": "execute_result"
    }
   ],
   "source": [
    "#Q3(i)\t/ (ii) % (iii)\t// (iv)\t**\n",
    "a=25\n",
    "b=5\n",
    "a/b\n"
   ]
  },
  {
   "cell_type": "code",
   "execution_count": 15,
   "id": "1461c3e3-6028-40bc-b499-45c78fb48d51",
   "metadata": {},
   "outputs": [
    {
     "data": {
      "text/plain": [
       "0"
      ]
     },
     "execution_count": 15,
     "metadata": {},
     "output_type": "execute_result"
    }
   ],
   "source": [
    "a=25\n",
    "b=5\n",
    "a%b"
   ]
  },
  {
   "cell_type": "code",
   "execution_count": 16,
   "id": "31b5b3cc-5ad8-42da-8cb9-704187ec4236",
   "metadata": {},
   "outputs": [
    {
     "data": {
      "text/plain": [
       "4"
      ]
     },
     "execution_count": 16,
     "metadata": {},
     "output_type": "execute_result"
    }
   ],
   "source": [
    "#in this % this is a modulus operator which shows the reminder and giving the another example to explain this \n",
    "a=24\n",
    "b=5\n",
    "a%b"
   ]
  },
  {
   "cell_type": "code",
   "execution_count": 17,
   "id": "1ed70360-4288-47d7-8174-3c9158b419e5",
   "metadata": {},
   "outputs": [
    {
     "data": {
      "text/plain": [
       "5"
      ]
     },
     "execution_count": 17,
     "metadata": {},
     "output_type": "execute_result"
    }
   ],
   "source": [
    "a=25\n",
    "b=5\n",
    "a//b"
   ]
  },
  {
   "cell_type": "code",
   "execution_count": 19,
   "id": "2309cce3-6ea3-444f-be25-94fada6c2dc8",
   "metadata": {},
   "outputs": [
    {
     "data": {
      "text/plain": [
       "6"
      ]
     },
     "execution_count": 19,
     "metadata": {},
     "output_type": "execute_result"
    }
   ],
   "source": [
    "#in this // this is a modulus operator which shows the division floor  and giving the another example to explain this \n",
    "a=30\n",
    "b=5\n",
    "a//b"
   ]
  },
  {
   "cell_type": "code",
   "execution_count": 20,
   "id": "f0b40c3a-bab7-4f55-b8f9-88f4ad26cee2",
   "metadata": {},
   "outputs": [
    {
     "data": {
      "text/plain": [
       "8"
      ]
     },
     "execution_count": 20,
     "metadata": {},
     "output_type": "execute_result"
    }
   ],
   "source": [
    "# ** is used to raise to function \n",
    "a=2\n",
    "b=5\n",
    "a**3"
   ]
  },
  {
   "cell_type": "code",
   "execution_count": 21,
   "id": "2137d954-f478-462b-bc70-435f410ef049",
   "metadata": {},
   "outputs": [
    {
     "data": {
      "text/plain": [
       "125"
      ]
     },
     "execution_count": 21,
     "metadata": {},
     "output_type": "execute_result"
    }
   ],
   "source": [
    "b**3"
   ]
  },
  {
   "cell_type": "code",
   "execution_count": 22,
   "id": "b446cdb0-c2e8-4907-bf90-fbeb35464cbd",
   "metadata": {},
   "outputs": [
    {
     "data": {
      "text/plain": [
       "625"
      ]
     },
     "execution_count": 22,
     "metadata": {},
     "output_type": "execute_result"
    }
   ],
   "source": [
    "b**4"
   ]
  },
  {
   "cell_type": "code",
   "execution_count": 49,
   "id": "42d35af0-c069-4a36-9c0f-ef1a98e10e78",
   "metadata": {},
   "outputs": [
    {
     "name": "stdout",
     "output_type": "stream",
     "text": [
      "<class 'int'>\n",
      "<class 'bool'>\n",
      "<class 'float'>\n",
      "<class 'str'>\n",
      "<class 'int'>\n",
      "<class 'tuple'>\n",
      "<class 'float'>\n",
      "<class 'bool'>\n",
      "<class 'float'>\n",
      "<class 'str'>\n"
     ]
    }
   ],
   "source": [
    "#Q4 \n",
    "J=[52,True,52.5,\"shrisiti\",44,(44,45,46),85.4,False,45.5,\"pandey\"]\n",
    "for a in J:\n",
    "    print(type(a))"
   ]
  },
  {
   "cell_type": "code",
   "execution_count": 19,
   "id": "79cbc99b-103a-4ca4-ab8d-c8db2d85123f",
   "metadata": {},
   "outputs": [],
   "source": [
    "#q5 while loop\n",
    "s=15\n",
    "j=23\n",
    "count=0\n",
    "while s % j==0:\n",
    "    s= s / j\n",
    "    count +=1\n",
    "    print(\"number of times\",s,\"divisible by\",j,\":\",count)"
   ]
  },
  {
   "cell_type": "code",
   "execution_count": 26,
   "id": "bf7d2be0-54b2-4fd0-ab45-1949b51cc4d3",
   "metadata": {},
   "outputs": [
    {
     "name": "stdout",
     "output_type": "stream",
     "text": [
      "divisible by 3\n",
      "divisible by 3\n",
      "divisible by 3\n",
      "divisible by 3\n",
      "divisible by 3\n",
      "divisible by 3\n",
      "divisible by 3\n",
      "divisible by 3\n",
      "divisible by 3\n",
      "divisible by 3\n",
      "divisible by 3\n",
      "divisible by 3\n",
      "not divisble by 3\n"
     ]
    }
   ],
   "source": [
    "#q6\n",
    "A=[3,9,12,15,18,25,45,85,89,75,74,77,41,22,33,63,62,21,99,95,94,92,94,75,55]\n",
    "for i in A:\n",
    "    if i % 3==0:\n",
    "        print (\"divisible by 3\")\n",
    "else:\n",
    "    print(\"not divisble by 3\")"
   ]
  },
  {
   "cell_type": "code",
   "execution_count": 33,
   "id": "0bf4f1c0-19ae-423c-a67d-dc3e6fffb01f",
   "metadata": {},
   "outputs": [],
   "source": [
    "#Q7\n",
    "#mutable\n",
    "a=[\"shristi\",55,4.25,55,66,True]\n"
   ]
  },
  {
   "cell_type": "code",
   "execution_count": 34,
   "id": "f0b837fc-a9a1-4eef-ba9e-865cd463620e",
   "metadata": {},
   "outputs": [
    {
     "data": {
      "text/plain": [
       "list"
      ]
     },
     "execution_count": 34,
     "metadata": {},
     "output_type": "execute_result"
    }
   ],
   "source": [
    "type(a)"
   ]
  },
  {
   "cell_type": "code",
   "execution_count": 38,
   "id": "fa297f4c-11a0-4353-8558-858cfb16552e",
   "metadata": {},
   "outputs": [
    {
     "data": {
      "text/plain": [
       "55"
      ]
     },
     "execution_count": 38,
     "metadata": {},
     "output_type": "execute_result"
    }
   ],
   "source": [
    "a[1]"
   ]
  },
  {
   "cell_type": "code",
   "execution_count": 39,
   "id": "c84d7c28-57e5-4cf2-8b87-652e605b91e2",
   "metadata": {},
   "outputs": [],
   "source": [
    "a[1]=45"
   ]
  },
  {
   "cell_type": "code",
   "execution_count": 40,
   "id": "4383d9ba-1660-43ba-92ea-7750e8e53ed1",
   "metadata": {},
   "outputs": [
    {
     "data": {
      "text/plain": [
       "['shristi', 45, 4.25, 55, 66, True]"
      ]
     },
     "execution_count": 40,
     "metadata": {},
     "output_type": "execute_result"
    }
   ],
   "source": [
    "a"
   ]
  },
  {
   "cell_type": "code",
   "execution_count": 41,
   "id": "66527f71-34f7-420d-bf5f-15e0f347dfdb",
   "metadata": {},
   "outputs": [],
   "source": [
    "#mutable example"
   ]
  },
  {
   "cell_type": "code",
   "execution_count": 51,
   "id": "134ae1f0-bb2a-4b77-90c1-d68e8337c68f",
   "metadata": {},
   "outputs": [],
   "source": [
    "#imutable example\n",
    "a=\"shubham\""
   ]
  },
  {
   "cell_type": "code",
   "execution_count": 49,
   "id": "d1f749dc-e590-4312-a7ce-6f2f57f05353",
   "metadata": {},
   "outputs": [
    {
     "data": {
      "text/plain": [
       "'shubham'"
      ]
     },
     "execution_count": 49,
     "metadata": {},
     "output_type": "execute_result"
    }
   ],
   "source": [
    "a[0]"
   ]
  },
  {
   "cell_type": "code",
   "execution_count": 53,
   "id": "3208e3de-8c9c-4a68-abb0-0c71eb1cff07",
   "metadata": {},
   "outputs": [
    {
     "ename": "TypeError",
     "evalue": "'str' object does not support item assignment",
     "output_type": "error",
     "traceback": [
      "\u001b[0;31m---------------------------------------------------------------------------\u001b[0m",
      "\u001b[0;31mTypeError\u001b[0m                                 Traceback (most recent call last)",
      "Cell \u001b[0;32mIn[53], line 1\u001b[0m\n\u001b[0;32m----> 1\u001b[0m \u001b[43ma\u001b[49m\u001b[43m[\u001b[49m\u001b[38;5;241;43m-\u001b[39;49m\u001b[38;5;241;43m1\u001b[39;49m\u001b[43m]\u001b[49m \u001b[38;5;241m=\u001b[39m \u001b[38;5;241m5\u001b[39m\n",
      "\u001b[0;31mTypeError\u001b[0m: 'str' object does not support item assignment"
     ]
    }
   ],
   "source": [
    "a[-1] = 5"
   ]
  },
  {
   "cell_type": "code",
   "execution_count": null,
   "id": "d8c053ba-7fac-4348-a230-cde759453f07",
   "metadata": {},
   "outputs": [],
   "source": []
  }
 ],
 "metadata": {
  "kernelspec": {
   "display_name": "Python 3 (ipykernel)",
   "language": "python",
   "name": "python3"
  },
  "language_info": {
   "codemirror_mode": {
    "name": "ipython",
    "version": 3
   },
   "file_extension": ".py",
   "mimetype": "text/x-python",
   "name": "python",
   "nbconvert_exporter": "python",
   "pygments_lexer": "ipython3",
   "version": "3.10.8"
  }
 },
 "nbformat": 4,
 "nbformat_minor": 5
}
